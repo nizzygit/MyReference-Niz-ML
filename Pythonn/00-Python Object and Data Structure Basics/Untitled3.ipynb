{
 "cells": [
  {
   "cell_type": "code",
   "execution_count": 1,
   "metadata": {},
   "outputs": [],
   "source": [
    "def myfunc(s):\n",
    "\n",
    "    ns = \"\"\n",
    "\n",
    "    i = 0\n",
    "\n",
    "    while i < len(s):\n",
    "\n",
    "        if i%2 == 0:\n",
    "\n",
    "            ns += s[i].lower()\n",
    "\n",
    "            i += 1\n",
    "\n",
    "        else:\n",
    "\n",
    "            ns += s[i].upper()\n",
    "\n",
    "            i += 1\n",
    "\n",
    "    return ns"
   ]
  },
  {
   "cell_type": "code",
   "execution_count": 2,
   "metadata": {},
   "outputs": [
    {
     "data": {
      "text/plain": [
       "'nIzAm'"
      ]
     },
     "execution_count": 2,
     "metadata": {},
     "output_type": "execute_result"
    }
   ],
   "source": [
    "myfunc('NiZam')"
   ]
  },
  {
   "cell_type": "code",
   "execution_count": 5,
   "metadata": {},
   "outputs": [],
   "source": [
    "def myfunc(name):\n",
    "    final=''\n",
    "    i=0\n",
    "    while i<len(name):\n",
    "        if name[i].lower()==True:\n",
    "            final=final+name[i].upper()\n",
    "        else:\n",
    "            final=final+name[i].lower()\n",
    "        i=i+1\n",
    "    return final"
   ]
  },
  {
   "cell_type": "code",
   "execution_count": 6,
   "metadata": {},
   "outputs": [
    {
     "data": {
      "text/plain": [
       "'nizam'"
      ]
     },
     "execution_count": 6,
     "metadata": {},
     "output_type": "execute_result"
    }
   ],
   "source": [
    "myfunc('NiZam')"
   ]
  },
  {
   "cell_type": "code",
   "execution_count": 9,
   "metadata": {},
   "outputs": [],
   "source": [
    "def myfunc(name):\n",
    "    final=''\n",
    "    i=0\n",
    "    while i<len(name):\n",
    "        character=name[i]\n",
    "        if character.islower()==False:\n",
    "            character = character.lower()\n",
    "            final=final+character\n",
    "        else:\n",
    "            character = character.upper()\n",
    "            final=final+character\n",
    "        i=i+1\n",
    "    return final"
   ]
  },
  {
   "cell_type": "code",
   "execution_count": 10,
   "metadata": {},
   "outputs": [
    {
     "data": {
      "text/plain": [
       "'nIzAM'"
      ]
     },
     "execution_count": 10,
     "metadata": {},
     "output_type": "execute_result"
    }
   ],
   "source": [
    "myfunc('NiZam')"
   ]
  },
  {
   "cell_type": "code",
   "execution_count": null,
   "metadata": {},
   "outputs": [],
   "source": []
  }
 ],
 "metadata": {
  "kernelspec": {
   "display_name": "Python 3",
   "language": "python",
   "name": "python3"
  },
  "language_info": {
   "codemirror_mode": {
    "name": "ipython",
    "version": 3
   },
   "file_extension": ".py",
   "mimetype": "text/x-python",
   "name": "python",
   "nbconvert_exporter": "python",
   "pygments_lexer": "ipython3",
   "version": "3.7.3"
  }
 },
 "nbformat": 4,
 "nbformat_minor": 2
}
